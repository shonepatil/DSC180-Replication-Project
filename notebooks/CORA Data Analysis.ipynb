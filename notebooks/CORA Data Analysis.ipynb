{
 "cells": [
  {
   "cell_type": "code",
   "execution_count": 1,
   "metadata": {},
   "outputs": [],
   "source": [
    "%matplotlib inline\n",
    "import os\n",
    "import sys\n",
    "import pandas as pd"
   ]
  },
  {
   "cell_type": "code",
   "execution_count": 2,
   "metadata": {},
   "outputs": [],
   "source": [
    "import os\n",
    "import sys\n",
    "module_path = os.path.abspath(os.path.join('..'))\n",
    "if module_path not in sys.path:\n",
    "    sys.path.append(module_path)\n",
    "    \n",
    "from src.features.build_features import load_data\n",
    "from src.model.train import train_test"
   ]
  },
  {
   "cell_type": "markdown",
   "metadata": {},
   "source": [
    "# Preface\n",
    "\n",
    "This dataset involves predicting what category scientific papers fall into. There is a network of papers as well as the words used in the title."
   ]
  },
  {
   "cell_type": "markdown",
   "metadata": {},
   "source": [
    "## Load CORA Data"
   ]
  },
  {
   "cell_type": "code",
   "execution_count": 10,
   "metadata": {},
   "outputs": [
    {
     "name": "stdout",
     "output_type": "stream",
     "text": [
      "Loading cora dataset...\n",
      "Graph Info:\n",
      " Name: G\n",
      "Type: Graph\n",
      "Number of nodes: 2708\n",
      "Number of edges: 5278\n",
      "Average degree:   3.8981\n",
      "Shape of A:  torch.Size([2708, 2708])\n",
      "\n",
      "Shape of X:  torch.Size([2708, 1433])\n",
      "\n",
      "Adjacency Matrix (A):\n",
      " tensor([[0.1667, 0.0000, 0.0000,  ..., 0.0000, 0.0000, 0.0000],\n",
      "        [0.0000, 0.5000, 0.0000,  ..., 0.0000, 0.0000, 0.0000],\n",
      "        [0.0000, 0.0000, 0.2000,  ..., 0.0000, 0.0000, 0.0000],\n",
      "        ...,\n",
      "        [0.0000, 0.0000, 0.0000,  ..., 0.2000, 0.0000, 0.0000],\n",
      "        [0.0000, 0.0000, 0.0000,  ..., 0.0000, 0.2000, 0.0000],\n",
      "        [0.0000, 0.0000, 0.0000,  ..., 0.0000, 0.0000, 0.2500]])\n",
      "\n",
      "Node Features Matrix (X):\n",
      " tensor([[-0.0771, -0.1111, -0.1629,  ..., -0.0471, -0.1568, -0.0667],\n",
      "        [-0.0771, -0.1111, -0.1629,  ..., -0.0471, -0.1568, -0.0667],\n",
      "        [-0.0771, -0.1111, -0.1629,  ..., -0.0471, -0.1568, -0.0667],\n",
      "        ...,\n",
      "        [-0.0771, -0.1111, -0.1629,  ..., -0.0471, -0.1568, -0.0667],\n",
      "        [-0.0771, -0.1111, -0.1629,  ..., -0.0471, -0.1568, -0.0667],\n",
      "        [-0.0771, -0.1111, -0.1629,  ..., -0.0471, -0.1568, -0.0667]])\n"
     ]
    }
   ],
   "source": [
    "A, X, y, idx_train, idx_val, idx_test = load_data(\"../data/cora/\", \"cora\", 140, 300, 1000)"
   ]
  },
  {
   "cell_type": "markdown",
   "metadata": {},
   "source": [
    "# FCN (features only)"
   ]
  },
  {
   "cell_type": "code",
   "execution_count": 11,
   "metadata": {},
   "outputs": [
    {
     "name": "stdout",
     "output_type": "stream",
     "text": [
      "Epoch: 0010 loss_train: 1.6629 acc_train: 0.4714 loss_val: 1.8643 acc_val: 0.3100 time: 0.0035s\n",
      "Epoch: 0020 loss_train: 1.4195 acc_train: 0.7071 loss_val: 1.8217 acc_val: 0.3500 time: 0.0030s\n",
      "Epoch: 0030 loss_train: 1.1950 acc_train: 0.7929 loss_val: 1.7836 acc_val: 0.3733 time: 0.0033s\n",
      "Epoch: 0040 loss_train: 1.0204 acc_train: 0.8429 loss_val: 1.7495 acc_val: 0.3800 time: 0.0030s\n",
      "Epoch: 0050 loss_train: 0.8408 acc_train: 0.9286 loss_val: 1.7188 acc_val: 0.3967 time: 0.0032s\n",
      "Epoch: 0060 loss_train: 0.6665 acc_train: 0.9714 loss_val: 1.6912 acc_val: 0.4033 time: 0.0029s\n",
      "Epoch: 0070 loss_train: 0.6026 acc_train: 0.9643 loss_val: 1.6663 acc_val: 0.4333 time: 0.0036s\n",
      "Epoch: 0080 loss_train: 0.4816 acc_train: 0.9857 loss_val: 1.6439 acc_val: 0.4567 time: 0.0042s\n",
      "Epoch: 0090 loss_train: 0.4110 acc_train: 0.9786 loss_val: 1.6242 acc_val: 0.4667 time: 0.0039s\n",
      "Epoch: 0100 loss_train: 0.3433 acc_train: 0.9857 loss_val: 1.6067 acc_val: 0.4867 time: 0.0037s\n",
      "Epoch: 0110 loss_train: 0.3138 acc_train: 0.9857 loss_val: 1.5910 acc_val: 0.4967 time: 0.0032s\n",
      "Epoch: 0120 loss_train: 0.2601 acc_train: 0.9857 loss_val: 1.5772 acc_val: 0.4967 time: 0.0030s\n",
      "Epoch: 0130 loss_train: 0.1924 acc_train: 0.9929 loss_val: 1.5649 acc_val: 0.4933 time: 0.0032s\n",
      "Epoch: 0140 loss_train: 0.1901 acc_train: 0.9929 loss_val: 1.5539 acc_val: 0.5033 time: 0.0030s\n",
      "Epoch: 0150 loss_train: 0.1750 acc_train: 0.9929 loss_val: 1.5437 acc_val: 0.5133 time: 0.0029s\n",
      "Epoch: 0160 loss_train: 0.1539 acc_train: 0.9929 loss_val: 1.5345 acc_val: 0.5167 time: 0.0030s\n",
      "Epoch: 0170 loss_train: 0.1426 acc_train: 0.9929 loss_val: 1.5260 acc_val: 0.5167 time: 0.0031s\n",
      "Epoch: 0180 loss_train: 0.1191 acc_train: 0.9929 loss_val: 1.5183 acc_val: 0.5133 time: 0.0029s\n",
      "Epoch: 0190 loss_train: 0.1128 acc_train: 1.0000 loss_val: 1.5117 acc_val: 0.5067 time: 0.0029s\n",
      "Epoch: 0200 loss_train: 0.1016 acc_train: 0.9929 loss_val: 1.5053 acc_val: 0.5133 time: 0.0030s\n",
      "Optimization Finished!\n",
      "Total time elapsed: 0.6763s\n",
      "Test set results: loss= 1.5208 accuracy= 0.4930\n"
     ]
    }
   ],
   "source": [
    "train_test(A, X, y, idx_train, idx_val, idx_test,\n",
    "    no_cuda = False,\n",
    "    seed = 42,\n",
    "    epochs = 200,\n",
    "    learning_rate = 0.0001,\n",
    "    weight_decay = 5e-4,\n",
    "    hidden_units = 256,\n",
    "    dropout = 0.5,\n",
    "    type = \"FCN\")"
   ]
  },
  {
   "cell_type": "markdown",
   "metadata": {},
   "source": [
    "# FCN (features and ad-hoc graph variables)"
   ]
  },
  {
   "cell_type": "code",
   "execution_count": 12,
   "metadata": {},
   "outputs": [
    {
     "name": "stdout",
     "output_type": "stream",
     "text": [
      "Loading cora dataset...\n",
      "Graph Info:\n",
      " Name: G\n",
      "Type: Graph\n",
      "Number of nodes: 2708\n",
      "Number of edges: 5278\n",
      "Average degree:   3.8981\n",
      "Shape of A:  torch.Size([2708, 2708])\n",
      "\n",
      "Shape of X:  torch.Size([2708, 1435])\n",
      "\n",
      "Adjacency Matrix (A):\n",
      " tensor([[0.1667, 0.0000, 0.0000,  ..., 0.0000, 0.0000, 0.0000],\n",
      "        [0.0000, 0.5000, 0.0000,  ..., 0.0000, 0.0000, 0.0000],\n",
      "        [0.0000, 0.0000, 0.2000,  ..., 0.0000, 0.0000, 0.0000],\n",
      "        ...,\n",
      "        [0.0000, 0.0000, 0.0000,  ..., 0.2000, 0.0000, 0.0000],\n",
      "        [0.0000, 0.0000, 0.0000,  ..., 0.0000, 0.2000, 0.0000],\n",
      "        [0.0000, 0.0000, 0.0000,  ..., 0.0000, 0.0000, 0.2500]])\n",
      "\n",
      "Node Features Matrix (X):\n",
      " tensor([[-0.0771, -0.1111, -0.1629,  ..., -0.0667,  0.2108, -0.0845],\n",
      "        [-0.0771, -0.1111, -0.1629,  ..., -0.0667, -0.5544,  0.1031],\n",
      "        [-0.0771, -0.1111, -0.1629,  ..., -0.0667,  0.0195,  0.9141],\n",
      "        ...,\n",
      "        [-0.0771, -0.1111, -0.1629,  ..., -0.0667,  0.0195,  0.2772],\n",
      "        [-0.0771, -0.1111, -0.1629,  ..., -0.0667,  0.0195, -0.1506],\n",
      "        [-0.0771, -0.1111, -0.1629,  ..., -0.0667, -0.1718, -0.0803]])\n"
     ]
    }
   ],
   "source": [
    "A1, X1, y1, idx_train, idx_val, idx_test = load_data(\"../data/cora/\", \"cora\", 140, 300, 1000, True)"
   ]
  },
  {
   "cell_type": "code",
   "execution_count": 13,
   "metadata": {},
   "outputs": [
    {
     "name": "stdout",
     "output_type": "stream",
     "text": [
      "Epoch: 0010 loss_train: 1.7022 acc_train: 0.4214 loss_val: 1.9171 acc_val: 0.2267 time: 0.0028s\n",
      "Epoch: 0020 loss_train: 1.4837 acc_train: 0.5857 loss_val: 1.8703 acc_val: 0.2800 time: 0.0028s\n",
      "Epoch: 0030 loss_train: 1.2065 acc_train: 0.8571 loss_val: 1.8283 acc_val: 0.3433 time: 0.0028s\n",
      "Epoch: 0040 loss_train: 1.0163 acc_train: 0.8714 loss_val: 1.7906 acc_val: 0.3800 time: 0.0027s\n",
      "Epoch: 0050 loss_train: 0.8579 acc_train: 0.9286 loss_val: 1.7568 acc_val: 0.4133 time: 0.0026s\n",
      "Epoch: 0060 loss_train: 0.6881 acc_train: 0.9500 loss_val: 1.7266 acc_val: 0.4300 time: 0.0033s\n",
      "Epoch: 0070 loss_train: 0.6184 acc_train: 0.9571 loss_val: 1.6994 acc_val: 0.4333 time: 0.0027s\n",
      "Epoch: 0080 loss_train: 0.5103 acc_train: 0.9714 loss_val: 1.6751 acc_val: 0.4367 time: 0.0027s\n",
      "Epoch: 0090 loss_train: 0.4243 acc_train: 0.9714 loss_val: 1.6533 acc_val: 0.4500 time: 0.0027s\n",
      "Epoch: 0100 loss_train: 0.3670 acc_train: 0.9786 loss_val: 1.6342 acc_val: 0.4833 time: 0.0026s\n",
      "Epoch: 0110 loss_train: 0.3245 acc_train: 0.9857 loss_val: 1.6171 acc_val: 0.4967 time: 0.0026s\n",
      "Epoch: 0120 loss_train: 0.2715 acc_train: 0.9929 loss_val: 1.6017 acc_val: 0.4933 time: 0.0029s\n",
      "Epoch: 0130 loss_train: 0.2322 acc_train: 0.9857 loss_val: 1.5877 acc_val: 0.4867 time: 0.0027s\n",
      "Epoch: 0140 loss_train: 0.2035 acc_train: 0.9929 loss_val: 1.5750 acc_val: 0.4933 time: 0.0030s\n",
      "Epoch: 0150 loss_train: 0.1895 acc_train: 0.9857 loss_val: 1.5637 acc_val: 0.5033 time: 0.0030s\n",
      "Epoch: 0160 loss_train: 0.1648 acc_train: 0.9929 loss_val: 1.5533 acc_val: 0.5067 time: 0.0030s\n",
      "Epoch: 0170 loss_train: 0.1425 acc_train: 0.9929 loss_val: 1.5441 acc_val: 0.5033 time: 0.0031s\n",
      "Epoch: 0180 loss_train: 0.1292 acc_train: 0.9929 loss_val: 1.5358 acc_val: 0.5067 time: 0.0030s\n",
      "Epoch: 0190 loss_train: 0.1251 acc_train: 0.9929 loss_val: 1.5282 acc_val: 0.5067 time: 0.0032s\n",
      "Epoch: 0200 loss_train: 0.1103 acc_train: 0.9929 loss_val: 1.5213 acc_val: 0.5100 time: 0.0030s\n",
      "Optimization Finished!\n",
      "Total time elapsed: 0.5701s\n",
      "Test set results: loss= 1.5577 accuracy= 0.4700\n"
     ]
    }
   ],
   "source": [
    "train_test(A1, X1, y1, idx_train, idx_val, idx_test,\n",
    "    no_cuda = False,\n",
    "    seed = 42,\n",
    "    epochs = 200,\n",
    "    learning_rate = 0.0001,\n",
    "    weight_decay = 5e-4,\n",
    "    hidden_units = 256,\n",
    "    dropout = 0.5,\n",
    "    type = \"FCN\")"
   ]
  },
  {
   "cell_type": "markdown",
   "metadata": {},
   "source": [
    "# node2vec (graph only)"
   ]
  },
  {
   "cell_type": "markdown",
   "metadata": {},
   "source": [
    "node2vec = Node2Vec(G, dimensions=64, walk_length=30, num_walks=200, workers=4)\n",
    "\n",
    " Embed nodes\n",
    "\n",
    "mod = node2vec.fit(window=10, min_count=1, batch_words=4)"
   ]
  },
  {
   "cell_type": "markdown",
   "metadata": {},
   "source": [
    "Results \n",
    "\n",
    "Epoch: 0190 loss_train: 0.6387 acc_train: 0.6500 loss_val: 0.7089 acc_val: 0.5180 time: 0.0031s\n",
    "\n",
    "Epoch: 0200 loss_train: 0.6372 acc_train: 0.6580 loss_val: 0.7102 acc_val: 0.5220 time: 0.0030s\n",
    "\n",
    "Optimization Finished!\n",
    "Total time elapsed: 0.6735s\n",
    "Test set results: loss= 0.7037 accuracy= 0.5180"
   ]
  },
  {
   "cell_type": "markdown",
   "metadata": {},
   "source": [
    "# node2vec (graph and features)"
   ]
  },
  {
   "cell_type": "markdown",
   "metadata": {},
   "source": [
    "Epoch: 0190 loss_train: 0.6347 acc_train: 0.6420 loss_val: 0.7088 acc_val: 0.5095 time: 0.0045s\n",
    "\n",
    "Epoch: 0200 loss_train: 0.6377 acc_train: 0.6420 loss_val: 0.7098 acc_val: 0.5095 time: 0.0030s\n",
    "\n",
    "Optimization Finished!\n",
    "Total time elapsed: 0.6197s\n",
    "Test set results: loss= 0.7161 accuracy= 0.5093"
   ]
  },
  {
   "cell_type": "markdown",
   "metadata": {},
   "source": [
    "# GCN (nodes and features)"
   ]
  },
  {
   "cell_type": "code",
   "execution_count": 18,
   "metadata": {},
   "outputs": [
    {
     "name": "stdout",
     "output_type": "stream",
     "text": [
      "Epoch: 0010 loss_train: 1.8548 acc_train: 0.2929 loss_val: 1.8449 acc_val: 0.3667 time: 0.0085s\n",
      "Epoch: 0020 loss_train: 1.8226 acc_train: 0.2929 loss_val: 1.8306 acc_val: 0.3667 time: 0.0077s\n",
      "Epoch: 0030 loss_train: 1.8178 acc_train: 0.2929 loss_val: 1.8354 acc_val: 0.3667 time: 0.0121s\n",
      "Epoch: 0040 loss_train: 1.8159 acc_train: 0.2929 loss_val: 1.8283 acc_val: 0.3667 time: 0.0096s\n",
      "Epoch: 0050 loss_train: 1.8150 acc_train: 0.2929 loss_val: 1.8268 acc_val: 0.3667 time: 0.0083s\n",
      "Epoch: 0060 loss_train: 1.8148 acc_train: 0.2929 loss_val: 1.8266 acc_val: 0.3667 time: 0.0082s\n",
      "Epoch: 0070 loss_train: 1.8139 acc_train: 0.2929 loss_val: 1.8208 acc_val: 0.3667 time: 0.0078s\n",
      "Epoch: 0080 loss_train: 1.7924 acc_train: 0.2929 loss_val: 1.8098 acc_val: 0.3633 time: 0.0082s\n",
      "Epoch: 0090 loss_train: 1.7758 acc_train: 0.3571 loss_val: 1.8144 acc_val: 0.3467 time: 0.0102s\n",
      "Epoch: 0100 loss_train: 1.7887 acc_train: 0.3214 loss_val: 1.8174 acc_val: 0.3567 time: 0.0099s\n",
      "Epoch: 0110 loss_train: 1.7767 acc_train: 0.2929 loss_val: 1.8211 acc_val: 0.3633 time: 0.0080s\n",
      "Epoch: 0120 loss_train: 1.7857 acc_train: 0.3071 loss_val: 1.8066 acc_val: 0.3667 time: 0.0079s\n",
      "Epoch: 0130 loss_train: 1.7778 acc_train: 0.3143 loss_val: 1.8170 acc_val: 0.3533 time: 0.0077s\n",
      "Epoch: 0140 loss_train: 1.7995 acc_train: 0.3071 loss_val: 1.8180 acc_val: 0.3533 time: 0.0073s\n",
      "Epoch: 0150 loss_train: 1.7895 acc_train: 0.3000 loss_val: 1.8156 acc_val: 0.3633 time: 0.0073s\n",
      "Epoch: 0160 loss_train: 1.8059 acc_train: 0.2929 loss_val: 1.8164 acc_val: 0.3633 time: 0.0076s\n",
      "Epoch: 0170 loss_train: 1.7844 acc_train: 0.3214 loss_val: 1.8233 acc_val: 0.3667 time: 0.0077s\n",
      "Epoch: 0180 loss_train: 1.7671 acc_train: 0.3214 loss_val: 1.8201 acc_val: 0.3633 time: 0.0101s\n",
      "Epoch: 0190 loss_train: 1.8006 acc_train: 0.2857 loss_val: 1.8187 acc_val: 0.3667 time: 0.0080s\n",
      "Epoch: 0200 loss_train: 1.7833 acc_train: 0.3214 loss_val: 1.8219 acc_val: 0.3500 time: 0.0085s\n",
      "Epoch: 0210 loss_train: 1.7829 acc_train: 0.3000 loss_val: 1.8227 acc_val: 0.3667 time: 0.0094s\n",
      "Epoch: 0220 loss_train: 1.7978 acc_train: 0.3143 loss_val: 1.8309 acc_val: 0.3633 time: 0.0085s\n",
      "Epoch: 0230 loss_train: 1.7766 acc_train: 0.3071 loss_val: 1.8366 acc_val: 0.3667 time: 0.0109s\n",
      "Epoch: 0240 loss_train: 1.7681 acc_train: 0.3143 loss_val: 1.8289 acc_val: 0.3567 time: 0.0084s\n",
      "Epoch: 0250 loss_train: 1.7827 acc_train: 0.2929 loss_val: 1.8316 acc_val: 0.3600 time: 0.0103s\n",
      "Epoch: 0260 loss_train: 1.7862 acc_train: 0.3071 loss_val: 1.8341 acc_val: 0.3667 time: 0.0087s\n",
      "Epoch: 0270 loss_train: 1.7599 acc_train: 0.2929 loss_val: 1.8302 acc_val: 0.3533 time: 0.0081s\n",
      "Epoch: 0280 loss_train: 1.7943 acc_train: 0.2929 loss_val: 1.8385 acc_val: 0.3567 time: 0.0115s\n",
      "Epoch: 0290 loss_train: 1.7863 acc_train: 0.3214 loss_val: 1.8419 acc_val: 0.3633 time: 0.0108s\n",
      "Epoch: 0300 loss_train: 1.7696 acc_train: 0.3214 loss_val: 1.8304 acc_val: 0.3633 time: 0.0073s\n",
      "Epoch: 0310 loss_train: 1.7777 acc_train: 0.3071 loss_val: 1.8287 acc_val: 0.3633 time: 0.0073s\n",
      "Epoch: 0320 loss_train: 1.7718 acc_train: 0.3143 loss_val: 1.8330 acc_val: 0.3667 time: 0.0073s\n",
      "Epoch: 0330 loss_train: 1.7742 acc_train: 0.3143 loss_val: 1.8326 acc_val: 0.3533 time: 0.0076s\n",
      "Epoch: 0340 loss_train: 1.7646 acc_train: 0.3000 loss_val: 1.8329 acc_val: 0.3633 time: 0.0076s\n",
      "Epoch: 0350 loss_train: 1.7480 acc_train: 0.3143 loss_val: 1.8433 acc_val: 0.3633 time: 0.0078s\n",
      "Epoch: 0360 loss_train: 1.7697 acc_train: 0.3071 loss_val: 1.8313 acc_val: 0.3633 time: 0.0144s\n",
      "Epoch: 0370 loss_train: 1.7810 acc_train: 0.3286 loss_val: 1.8384 acc_val: 0.3633 time: 0.0082s\n",
      "Epoch: 0380 loss_train: 1.7734 acc_train: 0.3071 loss_val: 1.8371 acc_val: 0.3667 time: 0.0082s\n",
      "Epoch: 0390 loss_train: 1.7704 acc_train: 0.3000 loss_val: 1.8354 acc_val: 0.3600 time: 0.0083s\n",
      "Epoch: 0400 loss_train: 1.7771 acc_train: 0.2857 loss_val: 1.8325 acc_val: 0.3500 time: 0.0078s\n",
      "Epoch: 0410 loss_train: 1.7907 acc_train: 0.3000 loss_val: 1.8373 acc_val: 0.3600 time: 0.0078s\n",
      "Epoch: 0420 loss_train: 1.7695 acc_train: 0.3143 loss_val: 1.8436 acc_val: 0.3533 time: 0.0102s\n",
      "Epoch: 0430 loss_train: 1.7752 acc_train: 0.3071 loss_val: 1.8371 acc_val: 0.3467 time: 0.0082s\n",
      "Epoch: 0440 loss_train: 1.7756 acc_train: 0.3071 loss_val: 1.8372 acc_val: 0.3667 time: 0.0099s\n",
      "Epoch: 0450 loss_train: 1.7902 acc_train: 0.3000 loss_val: 1.8309 acc_val: 0.3633 time: 0.0076s\n",
      "Epoch: 0460 loss_train: 1.8014 acc_train: 0.2786 loss_val: 1.8356 acc_val: 0.3400 time: 0.0078s\n",
      "Epoch: 0470 loss_train: 1.7892 acc_train: 0.3071 loss_val: 1.8488 acc_val: 0.3333 time: 0.0078s\n",
      "Epoch: 0480 loss_train: 1.7700 acc_train: 0.3071 loss_val: 1.8346 acc_val: 0.3633 time: 0.0078s\n",
      "Epoch: 0490 loss_train: 1.7566 acc_train: 0.3286 loss_val: 1.8394 acc_val: 0.3600 time: 0.0079s\n",
      "Epoch: 0500 loss_train: 1.7726 acc_train: 0.3143 loss_val: 1.8339 acc_val: 0.3533 time: 0.0105s\n",
      "Optimization Finished!\n",
      "Total time elapsed: 4.3820s\n",
      "Test set results: loss= 1.9174 accuracy= 0.2940\n"
     ]
    }
   ],
   "source": [
    "train_test(A, X, y, idx_train, idx_val, idx_test,\n",
    "    no_cuda = False,\n",
    "    seed = 42,\n",
    "    epochs = 500,\n",
    "    learning_rate = 0.01,\n",
    "    weight_decay = 5e-4,\n",
    "    hidden_units = 256,\n",
    "    dropout = 0.5,\n",
    "    type = \"GCN\")"
   ]
  },
  {
   "cell_type": "markdown",
   "metadata": {},
   "source": [
    "# Discussion Questions\n",
    "\n",
    "This node classification task is transductive as not all papers are classified in a category. Papers aren't always put into categories and there could be value in finding a proper one for them based on related or similar data in a citation network.\n",
    "\n",
    "The Train-Test split can be done on the feature level then so that the full network can still be inputted into the model since there are essentially unlabled gaps in the network that we would want to classify.\n",
    "\n",
    "*Summarize how each ML approach handles inductive graph learning (adding new nodes and edges at test-time). What computation has to occur at test-time?*\n",
    "\n",
    "FCN(only features): This does fine with inductive graph learning because there is no link between the data points.\n",
    "\n",
    "FCN (features and ad-hoc graph variables): This also does fine since there are features to carry predictions even if new data points don't have ad-hoc summarizations. I think at test time this graph input has to be imputed.\n",
    "\n",
    "All graph inputted approaches: Need to use something like GraphSAGE that generates embeddings by \"sampling and aggregating features from a node’s local neighborhood\""
   ]
  },
  {
   "cell_type": "code",
   "execution_count": null,
   "metadata": {},
   "outputs": [],
   "source": []
  }
 ],
 "metadata": {
  "kernelspec": {
   "display_name": "Python 3",
   "language": "python",
   "name": "python3"
  },
  "language_info": {
   "codemirror_mode": {
    "name": "ipython",
    "version": 3
   },
   "file_extension": ".py",
   "mimetype": "text/x-python",
   "name": "python",
   "nbconvert_exporter": "python",
   "pygments_lexer": "ipython3",
   "version": "3.8.3"
  }
 },
 "nbformat": 4,
 "nbformat_minor": 4
}
