{
 "cells": [
  {
   "cell_type": "code",
   "execution_count": 20,
   "metadata": {},
   "outputs": [],
   "source": [
    "%matplotlib inline\n",
    "import os\n",
    "import sys\n",
    "import pandas as pd"
   ]
  },
  {
   "cell_type": "code",
   "execution_count": 34,
   "metadata": {},
   "outputs": [],
   "source": [
    "# %load \"../src/features/build_features.py\"\n",
    "from operator import xor\n",
    "import pandas as pd\n",
    "import networkx as nx\n",
    "import torch\n",
    "import numpy as np\n",
    "import os\n",
    "from sklearn.preprocessing import StandardScaler\n",
    "\n",
    "import sys\n",
    "sys.path.insert(0, 'src/model')\n",
    "from utils import encode_onehot, frac_mat_power\n",
    "\n",
    "def load_data(path, dataset, train, val, test):\n",
    "    \"\"\"Load network dataset\"\"\"\n",
    "    print('Loading {} dataset...'.format(dataset))\n",
    "    \n",
    "    # Load data\n",
    "    nodes = pd.read_csv('{}{}target.csv'.format(path, dataset), sep=',')\n",
    "    edges = pd.read_csv('{}{}edges.csv'.format(path, dataset), sep=',')\n",
    "    \n",
    "    # Construct graph\n",
    "    G = nx.Graph(name = 'G')\n",
    "\n",
    "    # Create nodes\n",
    "    for i in nodes.iloc[:, -1]:\n",
    "        G.add_node(i, name=i)\n",
    "\n",
    "    # Create edges\n",
    "    for e in edges.to_numpy():\n",
    "        G.add_edge(e[0], e[1])\n",
    "\n",
    "    #See graph info\n",
    "    print('Graph Info:\\n', nx.info(G))\n",
    "    \n",
    "    #Get the Adjacency Matrix (A) and Node Features Matrix (X) as numpy array\n",
    "    A = torch.FloatTensor(nx.adjacency_matrix(G).todense())\n",
    "    X = nodes.iloc[:, [1, 3, 4]].to_numpy().astype(float)\n",
    "    y = encode_onehot(nodes.iloc[:, 2].to_numpy())\n",
    "\n",
    "    idx_train = range(train)\n",
    "    idx_val = range(train, train+val)\n",
    "    idx_test = range(train+val, train+val+test)\n",
    "\n",
    "    I = torch.eye(A.shape[0]) #create Identity Matrix of A\n",
    "    A_hat = A + I #add self-loop to A\n",
    "    D = torch.diag(torch.sum(A_hat, axis=0)) #create Degree Matrix of A\n",
    "    D_half_norm = frac_mat_power(D, -0.5) #calculate D to the power of -0.5\n",
    "    A = D_half_norm.mm(A_hat).mm(D_half_norm)\n",
    "\n",
    "    # Standardize X\n",
    "    scaler = StandardScaler()\n",
    "    X = scaler.fit_transform(X)\n",
    "    X = torch.FloatTensor(X)\n",
    "\n",
    "    y = torch.LongTensor(np.where(y)[1])\n",
    "\n",
    "    idx_train = torch.LongTensor(idx_train)\n",
    "    idx_val = torch.LongTensor(idx_val)\n",
    "    idx_test = torch.LongTensor(idx_test)\n",
    "\n",
    "    print('Shape of A: ', A.shape)\n",
    "    print('\\nShape of X: ', X.shape)\n",
    "    print('\\nAdjacency Matrix (A):\\n', A)\n",
    "    print('\\nNode Features Matrix (X):\\n', X)\n",
    "    \n",
    "    return A, X, y, idx_train, idx_val, idx_test"
   ]
  },
  {
   "cell_type": "code",
   "execution_count": 36,
   "metadata": {},
   "outputs": [
    {
     "name": "stdout",
     "output_type": "stream",
     "text": [
      "Loading musae_ENGB_ dataset...\n",
      "Graph Info:\n",
      " Name: G\n",
      "Type: Graph\n",
      "Number of nodes: 7126\n",
      "Number of edges: 35324\n",
      "Average degree:   9.9141\n"
     ]
    },
    {
     "name": "stderr",
     "output_type": "stream",
     "text": [
      "/home/s3patil/DSC 180/DSC180-Replication-Project/notebooks/../src/model/utils.py:13: UserWarning: torch.eig is deprecated in favor of torch.linalg.eig and will be removed in a future PyTorch release.\n",
      "torch.linalg.eig returns complex tensors of dtype cfloat or cdouble rather than real tensors mimicking complex tensors.\n",
      "L, _ = torch.eig(A)\n",
      "should be replaced with\n",
      "L_complex = torch.linalg.eigvals(A)\n",
      "and\n",
      "L, V = torch.eig(A, eigenvectors=True)\n",
      "should be replaced with\n",
      "L_complex, V_complex = torch.linalg.eig(A) (Triggered internally at  /pytorch/aten/src/ATen/native/BatchLinearAlgebra.cpp:2897.)\n",
      "  evals, evecs = torch.eig (m, eigenvectors = True)  # get eigendecomposition\n"
     ]
    },
    {
     "name": "stdout",
     "output_type": "stream",
     "text": [
      "Shape of A:  torch.Size([7126, 7126])\n",
      "\n",
      "Shape of X:  torch.Size([7126, 3])\n",
      "\n",
      "Adjacency Matrix (A):\n",
      " tensor([[0.1250, 0.0000, 0.0000,  ..., 0.0000, 0.0000, 0.0000],\n",
      "        [0.0000, 0.0500, 0.0000,  ..., 0.0000, 0.0000, 0.0000],\n",
      "        [0.0000, 0.0000, 0.1000,  ..., 0.0000, 0.0000, 0.0000],\n",
      "        ...,\n",
      "        [0.0000, 0.0000, 0.0000,  ..., 0.2500, 0.0000, 0.0000],\n",
      "        [0.0000, 0.0000, 0.0000,  ..., 0.0000, 0.0476, 0.0000],\n",
      "        [0.0000, 0.0000, 0.0000,  ..., 0.0000, 0.0000, 0.3333]])\n",
      "\n",
      "Node Features Matrix (X):\n",
      " tensor([[-0.0937, -0.0620, -0.2387],\n",
      "        [ 0.1469, -0.0640, -0.2387],\n",
      "        [-1.5768, -0.0495, -0.2387],\n",
      "        ...,\n",
      "        [-0.1517, -0.0639, -0.2387],\n",
      "        [ 0.7370, -0.0631, -0.2387],\n",
      "        [ 0.3846, -0.0640, -0.2387]])\n"
     ]
    }
   ],
   "source": [
    "A, X, y, idx_train, idx_val, idx_test = load_data(\"../src/data/twitch/\", \"musae_ENGB_\", 1000, 2000, 3000)"
   ]
  },
  {
   "cell_type": "code",
   "execution_count": null,
   "metadata": {},
   "outputs": [],
   "source": []
  }
 ],
 "metadata": {
  "kernelspec": {
   "display_name": "Python 3 (ipykernel)",
   "language": "python",
   "name": "python3"
  },
  "language_info": {
   "codemirror_mode": {
    "name": "ipython",
    "version": 3
   },
   "file_extension": ".py",
   "mimetype": "text/x-python",
   "name": "python",
   "nbconvert_exporter": "python",
   "pygments_lexer": "ipython3",
   "version": "3.9.5"
  }
 },
 "nbformat": 4,
 "nbformat_minor": 4
}
