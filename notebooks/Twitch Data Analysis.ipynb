{
 "cells": [
  {
   "cell_type": "code",
   "execution_count": 1,
   "metadata": {},
   "outputs": [],
   "source": [
    "%matplotlib inline\n",
    "import os\n",
    "import sys\n",
    "import pandas as pd"
   ]
  },
  {
   "cell_type": "code",
   "execution_count": 2,
   "metadata": {},
   "outputs": [],
   "source": [
    "import os\n",
    "import sys\n",
    "module_path = os.path.abspath(os.path.join('..'))\n",
    "if module_path not in sys.path:\n",
    "    sys.path.append(module_path)\n",
    "    \n",
    "from src.features.build_features import load_data\n",
    "from src.model.train import train_test"
   ]
  },
  {
   "cell_type": "markdown",
   "metadata": {},
   "source": [
    "## Load Twitch Data"
   ]
  },
  {
   "cell_type": "code",
   "execution_count": 3,
   "metadata": {},
   "outputs": [
    {
     "name": "stdout",
     "output_type": "stream",
     "text": [
      "Loading musae_ENGB_ dataset...\n",
      "Graph Info:\n",
      " Name: G\n",
      "Type: Graph\n",
      "Number of nodes: 7126\n",
      "Number of edges: 35324\n",
      "Average degree:   9.9141\n"
     ]
    },
    {
     "name": "stderr",
     "output_type": "stream",
     "text": [
      "/home/s3patil/DSC 180/DSC180-Replication-Project/src/model/utils.py:13: UserWarning: torch.eig is deprecated in favor of torch.linalg.eig and will be removed in a future PyTorch release.\n",
      "torch.linalg.eig returns complex tensors of dtype cfloat or cdouble rather than real tensors mimicking complex tensors.\n",
      "L, _ = torch.eig(A)\n",
      "should be replaced with\n",
      "L_complex = torch.linalg.eigvals(A)\n",
      "and\n",
      "L, V = torch.eig(A, eigenvectors=True)\n",
      "should be replaced with\n",
      "L_complex, V_complex = torch.linalg.eig(A) (Triggered internally at  /pytorch/aten/src/ATen/native/BatchLinearAlgebra.cpp:2897.)\n",
      "  evals, evecs = torch.eig (m, eigenvectors = True)  # get eigendecomposition\n"
     ]
    },
    {
     "name": "stdout",
     "output_type": "stream",
     "text": [
      "Shape of A:  torch.Size([7126, 7126])\n",
      "\n",
      "Shape of X:  torch.Size([7126, 3])\n",
      "\n",
      "Adjacency Matrix (A):\n",
      " tensor([[0.1250, 0.0000, 0.0000,  ..., 0.0000, 0.0000, 0.0000],\n",
      "        [0.0000, 0.0500, 0.0000,  ..., 0.0000, 0.0000, 0.0000],\n",
      "        [0.0000, 0.0000, 0.1000,  ..., 0.0000, 0.0000, 0.0000],\n",
      "        ...,\n",
      "        [0.0000, 0.0000, 0.0000,  ..., 0.2500, 0.0000, 0.0000],\n",
      "        [0.0000, 0.0000, 0.0000,  ..., 0.0000, 0.0476, 0.0000],\n",
      "        [0.0000, 0.0000, 0.0000,  ..., 0.0000, 0.0000, 0.3333]])\n",
      "\n",
      "Node Features Matrix (X):\n",
      " tensor([[-0.0937, -0.0620, -0.2387],\n",
      "        [ 0.1469, -0.0640, -0.2387],\n",
      "        [-1.5768, -0.0495, -0.2387],\n",
      "        ...,\n",
      "        [-0.1517, -0.0639, -0.2387],\n",
      "        [ 0.7370, -0.0631, -0.2387],\n",
      "        [ 0.3846, -0.0640, -0.2387]])\n"
     ]
    }
   ],
   "source": [
    "A, X, y, idx_train, idx_val, idx_test = load_data(\"../data/twitch/\", \"musae_ENGB_\", 1000, 2000, 3000)"
   ]
  },
  {
   "cell_type": "markdown",
   "metadata": {},
   "source": [
    "# FCN (features only)"
   ]
  },
  {
   "cell_type": "code",
   "execution_count": 5,
   "metadata": {},
   "outputs": [
    {
     "name": "stdout",
     "output_type": "stream",
     "text": [
      "Epoch: 0010 loss_train: 0.7175 acc_train: 0.5000 loss_val: 0.7030 acc_val: 0.5045 time: 0.0039s\n",
      "Epoch: 0020 loss_train: 0.7094 acc_train: 0.4930 loss_val: 0.6988 acc_val: 0.5055 time: 0.0032s\n",
      "Epoch: 0030 loss_train: 0.6974 acc_train: 0.5360 loss_val: 0.6964 acc_val: 0.5120 time: 0.0029s\n",
      "Epoch: 0040 loss_train: 0.7062 acc_train: 0.5270 loss_val: 0.6947 acc_val: 0.5185 time: 0.0027s\n",
      "Epoch: 0050 loss_train: 0.7014 acc_train: 0.5280 loss_val: 0.6935 acc_val: 0.5260 time: 0.0025s\n",
      "Epoch: 0060 loss_train: 0.7000 acc_train: 0.5290 loss_val: 0.6925 acc_val: 0.5365 time: 0.0035s\n",
      "Epoch: 0070 loss_train: 0.7043 acc_train: 0.5260 loss_val: 0.6919 acc_val: 0.5415 time: 0.0035s\n",
      "Epoch: 0080 loss_train: 0.7043 acc_train: 0.5140 loss_val: 0.6914 acc_val: 0.5440 time: 0.0037s\n",
      "Epoch: 0090 loss_train: 0.7029 acc_train: 0.5050 loss_val: 0.6911 acc_val: 0.5440 time: 0.0032s\n",
      "Epoch: 0100 loss_train: 0.6928 acc_train: 0.5410 loss_val: 0.6908 acc_val: 0.5440 time: 0.0029s\n",
      "Epoch: 0110 loss_train: 0.6952 acc_train: 0.5450 loss_val: 0.6908 acc_val: 0.5445 time: 0.0045s\n",
      "Epoch: 0120 loss_train: 0.6877 acc_train: 0.5670 loss_val: 0.6907 acc_val: 0.5445 time: 0.0039s\n",
      "Epoch: 0130 loss_train: 0.6991 acc_train: 0.5380 loss_val: 0.6907 acc_val: 0.5440 time: 0.0037s\n",
      "Epoch: 0140 loss_train: 0.6846 acc_train: 0.5570 loss_val: 0.6908 acc_val: 0.5455 time: 0.0036s\n",
      "Epoch: 0150 loss_train: 0.6879 acc_train: 0.5560 loss_val: 0.6909 acc_val: 0.5440 time: 0.0031s\n",
      "Epoch: 0160 loss_train: 0.6900 acc_train: 0.5500 loss_val: 0.6909 acc_val: 0.5435 time: 0.0027s\n",
      "Epoch: 0170 loss_train: 0.6920 acc_train: 0.5220 loss_val: 0.6908 acc_val: 0.5430 time: 0.0028s\n",
      "Epoch: 0180 loss_train: 0.6935 acc_train: 0.5610 loss_val: 0.6909 acc_val: 0.5425 time: 0.0026s\n",
      "Epoch: 0190 loss_train: 0.6957 acc_train: 0.5420 loss_val: 0.6910 acc_val: 0.5420 time: 0.0027s\n",
      "Epoch: 0200 loss_train: 0.6993 acc_train: 0.5360 loss_val: 0.6911 acc_val: 0.5430 time: 0.0028s\n",
      "Optimization Finished!\n",
      "Total time elapsed: 0.6621s\n",
      "Test set results: loss= 0.6914 accuracy= 0.5473\n"
     ]
    }
   ],
   "source": [
    "train_test(A, X, y, idx_train, idx_val, idx_test,\n",
    "    no_cuda = False,\n",
    "    seed = 40,\n",
    "    epochs = 200,\n",
    "    learning_rate = 0.0001,\n",
    "    weight_decay = 5e-4,\n",
    "    hidden_units = 256,\n",
    "    dropout = 0.5,\n",
    "    type = \"FCN\")"
   ]
  },
  {
   "cell_type": "markdown",
   "metadata": {},
   "source": [
    "# FCN (features and ad-hoc graph variables)"
   ]
  },
  {
   "cell_type": "code",
   "execution_count": null,
   "metadata": {},
   "outputs": [],
   "source": []
  },
  {
   "cell_type": "code",
   "execution_count": null,
   "metadata": {},
   "outputs": [],
   "source": []
  },
  {
   "cell_type": "code",
   "execution_count": null,
   "metadata": {},
   "outputs": [],
   "source": []
  },
  {
   "cell_type": "code",
   "execution_count": null,
   "metadata": {},
   "outputs": [],
   "source": []
  },
  {
   "cell_type": "code",
   "execution_count": null,
   "metadata": {},
   "outputs": [],
   "source": []
  },
  {
   "cell_type": "code",
   "execution_count": null,
   "metadata": {},
   "outputs": [],
   "source": []
  },
  {
   "cell_type": "code",
   "execution_count": null,
   "metadata": {},
   "outputs": [],
   "source": []
  },
  {
   "cell_type": "code",
   "execution_count": null,
   "metadata": {},
   "outputs": [],
   "source": []
  }
 ],
 "metadata": {
  "kernelspec": {
   "display_name": "Python 3 (ipykernel)",
   "language": "python",
   "name": "python3"
  },
  "language_info": {
   "codemirror_mode": {
    "name": "ipython",
    "version": 3
   },
   "file_extension": ".py",
   "mimetype": "text/x-python",
   "name": "python",
   "nbconvert_exporter": "python",
   "pygments_lexer": "ipython3",
   "version": "3.9.5"
  }
 },
 "nbformat": 4,
 "nbformat_minor": 4
}
